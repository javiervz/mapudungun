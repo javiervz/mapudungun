{
 "cells": [
  {
   "cell_type": "code",
   "execution_count": 1,
   "metadata": {},
   "outputs": [
    {
     "data": {
      "text/html": [
       "<script>\n",
       "code_show=true; \n",
       "function code_toggle() {\n",
       " if (code_show){\n",
       " $('div.input').hide();\n",
       " } else {\n",
       " $('div.input').show();\n",
       " }\n",
       " code_show = !code_show\n",
       "} \n",
       "$( document ).ready(code_toggle);\n",
       "</script>\n",
       "The raw code for this IPython notebook is by default hidden for easier reading.\n",
       "To toggle on/off the raw code, click <a href=\"javascript:code_toggle()\">here</a>."
      ],
      "text/plain": [
       "<IPython.core.display.HTML object>"
      ]
     },
     "execution_count": 1,
     "metadata": {},
     "output_type": "execute_result"
    }
   ],
   "source": [
    "from IPython.display import HTML\n",
    "HTML('''<script>\n",
    "code_show=true; \n",
    "function code_toggle() {\n",
    " if (code_show){\n",
    " $('div.input').hide();\n",
    " } else {\n",
    " $('div.input').show();\n",
    " }\n",
    " code_show = !code_show\n",
    "} \n",
    "$( document ).ready(code_toggle);\n",
    "</script>\n",
    "The raw code for this IPython notebook is by default hidden for easier reading.\n",
    "To toggle on/off the raw code, click <a href=\"javascript:code_toggle()\">here</a>.''')"
   ]
  },
  {
   "cell_type": "code",
   "execution_count": 2,
   "metadata": {},
   "outputs": [
    {
     "data": {
      "application/vnd.jupyter.widget-view+json": {
       "model_id": "6ad955a7f83749de81ed199f154cd7b9",
       "version_major": 2,
       "version_minor": 0
      },
      "text/plain": [
       "interactive(children=(Dropdown(description='verb_esp', options=('salir', 'decir', 'entrar', 'tomar mate', 'con…"
      ]
     },
     "metadata": {},
     "output_type": "display_data"
    }
   ],
   "source": [
    "# # Conjugador de verbos en mapudungun\n",
    "# ## Proponemos dos funciones principales\n",
    "# ## (1) dado un verbo en infinitivo, conjugamos el verbo en presente (o pasado) en todas las personas gramaticales\n",
    "# ## (2) dado un verbo conjugado, identificamos la persona y el tiempo verbal\n",
    "# \n",
    "# ### Para lograr esto, disponemos de un diccionario de verbos, lo que nos entrega el significado en espanol. En el caso de palabras OOV, nos basamos unicamente en la morfologia. \n",
    "\n",
    "# # (1) verbo en espanol a verbo conjugado en mapudungun\n",
    "\n",
    "import pandas as pd\n",
    "import ipywidgets as widgets\n",
    "\n",
    "widgets.interact_manual.opts['manual_name'] = 'traducir!'\n",
    "## verbo en espanol a conjugacion en mapudungun\n",
    "verbos=pd.read_csv('verbs.csv',header=0,sep='\\t')\n",
    "verbos_esp=[verbo for verbo in verbos.esp]\n",
    "verbos_mapu=[verbo for verbo in verbos.mapu]\n",
    "personas={'singular':{1:'iñche',2:'eymi',3:'fey'},'dual':{1:'iñchiw',2:'eymu',3:'feyengu'},'plural':{1:'iñchiñ',2:'eymün',3:'feyengün'}}\n",
    "consonantes=['n','w']\n",
    "\n",
    "@widgets.interact_manual(verb_esp=verbos_esp, numero=['singular','dual','plural'], persona=[1,2,3])\n",
    "def verb_to_mapudungun(verb_esp,numero,persona):\n",
    "    \n",
    "    verbos={esp:mapu for (esp,mapu) in zip(verbos_esp,verbos_mapu)}\n",
    "    base=verbos[verb_esp]\n",
    "    conjugacion={'singular':{1:'(yo) iñche',2:'(tú) eymi',3:'(ella/él) fey'},'dual':{1:'(nosotras/nosotros dos) iñchiw',2:'(ustedes dos) eymu',3:'(ellas/ellos dos) feyengu'},'plural':{1:'(nosotras/nosotros) iñchiñ',2:'(ustedes) eymün',3:'(ellas/ellos) feyengün'}}\n",
    "    \n",
    "    if base[-1] in consonantes: ## terminan en consonante\n",
    "        if numero=='singular':\n",
    "            if persona==1:\n",
    "                traduccion=conjugacion[numero][persona]+' '+base+'ün'\n",
    "            elif persona==2:\n",
    "                traduccion=conjugacion[numero][persona]+' '+base+'imi'\n",
    "            else:\n",
    "                traduccion=conjugacion[numero][persona]+' '+base+'i'\n",
    "        elif numero=='dual':\n",
    "            if persona==1:\n",
    "                traduccion=conjugacion[numero][persona]+' '+base+'iyu'\n",
    "            elif persona==2:\n",
    "                traduccion=conjugacion[numero][persona]+' '+base+'imu'\n",
    "            else:\n",
    "                traduccion=conjugacion[numero][persona]+' '+base+'ingu'\n",
    "        else:\n",
    "            if persona==1:\n",
    "                traduccion=conjugacion[numero][persona]+' '+base+'iyiñ'\n",
    "            elif persona==2:\n",
    "                traduccion=conjugacion[numero][persona]+' '+base+'imün'\n",
    "            else:\n",
    "                traduccion=conjugacion[numero][persona]+' '+base+'ingün'\n",
    "                \n",
    "    elif base[-1]=='i': ## termina en i\n",
    "        if numero=='singular':\n",
    "            if persona==1:\n",
    "                traduccion=conjugacion[numero][persona]+' '+base+'n'\n",
    "            elif persona==2:\n",
    "                traduccion=conjugacion[numero][persona]+' '+base+'mi'\n",
    "            else:\n",
    "                traduccion=conjugacion[numero][persona]+' '+base\n",
    "        elif numero=='dual':\n",
    "            if persona==1:\n",
    "                traduccion=conjugacion[numero][persona]+' '+base+'yu'\n",
    "            elif persona==2:\n",
    "                traduccion=conjugacion[numero][persona]+' '+base+'mu'\n",
    "            else:\n",
    "                traduccion=conjugacion[numero][persona]+' '+base+'ngu'\n",
    "        else:\n",
    "            if persona==1:\n",
    "                traduccion=conjugacion[numero][persona]+' '+base+'iñ'\n",
    "            elif persona==2:\n",
    "                traduccion=conjugacion[numero][persona]+' '+base+'mün'\n",
    "            else:\n",
    "                traduccion=conjugacion[numero][persona]+' '+base+'ngün'\n",
    "                \n",
    "    else: ## en otro caso\n",
    "        if numero=='singular':\n",
    "            if persona==1:\n",
    "                traduccion=conjugacion[numero][persona]+' '+base+'n'\n",
    "            elif persona==2:\n",
    "                traduccion=conjugacion[numero][persona]+' '+base+'ymi'\n",
    "            else:\n",
    "                traduccion=conjugacion[numero][persona]+' '+base+'y'\n",
    "        elif numero=='dual':\n",
    "            if persona==1:\n",
    "                traduccion=conjugacion[numero][persona]+' '+base+'yu'\n",
    "            elif persona==2:\n",
    "                traduccion=conjugacion[numero][persona]+' '+base+'ymu'\n",
    "            else:\n",
    "                traduccion=conjugacion[numero][persona]+' '+base+'yngu'\n",
    "        else:\n",
    "            if persona==1:\n",
    "                traduccion=conjugacion[numero][persona]+' '+base+'iñ'\n",
    "            elif persona==2:\n",
    "                traduccion=conjugacion[numero][persona]+' '+base+'ymün'\n",
    "            else:\n",
    "                traduccion=conjugacion[numero][persona]+' '+base+'yngün'\n",
    "                        \n",
    "    \n",
    "    return traduccion"
   ]
  },
  {
   "cell_type": "code",
   "execution_count": null,
   "metadata": {},
   "outputs": [],
   "source": []
  }
 ],
 "metadata": {
  "kernelspec": {
   "display_name": "Python 3",
   "language": "python",
   "name": "python3"
  },
  "language_info": {
   "codemirror_mode": {
    "name": "ipython",
    "version": 3
   },
   "file_extension": ".py",
   "mimetype": "text/x-python",
   "name": "python",
   "nbconvert_exporter": "python",
   "pygments_lexer": "ipython3",
   "version": "3.6.6"
  }
 },
 "nbformat": 4,
 "nbformat_minor": 2
}
